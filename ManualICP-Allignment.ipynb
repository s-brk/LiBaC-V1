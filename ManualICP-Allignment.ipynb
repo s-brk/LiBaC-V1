{
 "cells": [
  {
   "cell_type": "code",
   "execution_count": 1,
   "metadata": {},
   "outputs": [
    {
     "name": "stdout",
     "output_type": "stream",
     "text": [
      "Jupyter environment detected. Enabling Open3D WebVisualizer.\n",
      "[Open3D INFO] WebRTC GUI backend enabled.\n",
      "[Open3D INFO] WebRTCWindowSystem: HTTP handshake server disabled.\n"
     ]
    }
   ],
   "source": [
    "import open3d as o3d\n",
    "import numpy as np\n",
    "import copy\n",
    "import time\n",
    "import tempfile"
   ]
  },
  {
   "cell_type": "code",
   "execution_count": 2,
   "metadata": {},
   "outputs": [],
   "source": [
    "\n",
    "\n",
    "\n",
    "def draw_registration_result(source, target, transformation):\n",
    "    source_temp = copy.deepcopy(source)\n",
    "    target_temp = copy.deepcopy(target)\n",
    "    source_temp.paint_uniform_color([1, 0.706, 0])\n",
    "    target_temp.paint_uniform_color([0, 0.651, 0.929])\n",
    "    source_temp.transform(transformation)\n",
    "    o3d.visualization.draw_geometries([source_temp, target_temp])\n",
    "\n",
    "def save_registration_result(source, transformation):\n",
    "    source_temp = copy.deepcopy(source)\n",
    "    temp_file = tempfile.NamedTemporaryFile(suffix=\".ply\", delete=False)\n",
    "    registered = source_temp.transform(transformation)\n",
    "    o3d.io.write_point_cloud(temp_file.name , registered, write_ascii=True)\n",
    "    return temp_file.name\n",
    "    \n",
    "\n",
    "\n",
    "def prepare_data(source_path, target_path):\n",
    "    pcd_data = o3d.data.DemoICPPointClouds()\n",
    "    source = o3d.io.read_point_cloud(source_path)\n",
    "    target = o3d.io.read_point_cloud(target_path)\n",
    "    print(\"Visualization of two point clouds before manual alignment\")\n",
    "    draw_registration_result(source, target, np.identity(4))\n",
    "    return source, target\n",
    "\n",
    "\n",
    "def pick_points(pcd):\n",
    "    print(\"\")\n",
    "    print(\n",
    "        \"1) Please pick at least three correspondences using [shift + left click]\"\n",
    "    )\n",
    "    print(\"   Press [shift + right click] to undo point picking\")\n",
    "    print(\"2) After picking points, press 'Q' to close the window\")\n",
    "    vis = o3d.visualization.VisualizerWithEditing()\n",
    "    vis.create_window()\n",
    "    vis.add_geometry(pcd)\n",
    "    vis.run()  # user picks points\n",
    "    vis.destroy_window()\n",
    "    print(\"\")\n",
    "    return vis.get_picked_points()\n",
    "\n",
    "\n",
    "def register_via_correspondences(source, target, source_points, target_points):\n",
    "    corr = np.zeros((len(source_points), 2))\n",
    "    corr[:, 0] = source_points\n",
    "    corr[:, 1] = target_points\n",
    "    # estimate rough transformation using correspondences\n",
    "    print(\"Compute a rough transform using the correspondences given by user\")\n",
    "    p2p = o3d.pipelines.registration.TransformationEstimationPointToPoint()\n",
    "    trans_init = p2p.compute_transformation(source, target,\n",
    "                                            o3d.utility.Vector2iVector(corr))\n",
    "    # point-to-point ICP for refinement\n",
    "    print(\"Perform point-to-point ICP refinement\")\n",
    "    threshold = 0.03  # 3cm distance threshold\n",
    "    reg_p2p = o3d.pipelines.registration.registration_icp(\n",
    "        source, target, threshold, trans_init,\n",
    "        o3d.pipelines.registration.TransformationEstimationPointToPoint())\n",
    "    temp_registration = save_registration_result(source, reg_p2p.transformation)\n",
    "    draw_registration_result(source, target, reg_p2p.transformation)\n",
    "    return temp_registration\n",
    "\n",
    "def downsample_point_cloud(pcd, voxel_size):\n",
    "    \n",
    "    print(\":: Downsample with a voxel size %.3f.\" % voxel_size)\n",
    "    pcd_down = pcd.voxel_down_sample(voxel_size)\n",
    "   \n",
    "    return pcd_down\n",
    "\n",
    "def demo_manual_registration():\n",
    "\n",
    "    print(\"Demo for manual ICP\")\n",
    "    pcd_data = o3d.data.DemoICPPointClouds()\n",
    "    source, target = prepare_data(pcd_data.paths[0], pcd_data.paths[2])\n",
    "\n",
    "    # pick points from two point clouds and builds correspondences\n",
    "    source_points = pick_points(source)\n",
    "    target_points = pick_points(target)\n",
    "    assert (len(source_points) >= 3 and len(target_points) >= 3)\n",
    "    assert (len(source_points) == len(target_points))\n",
    "    register_via_correspondences(source, target, source_points, target_points)\n",
    "    print(\"\")\n",
    "\n",
    "def manual_registration(lidar_path, gaussiansplat_path):\n",
    "\n",
    "    print(\"manual ICP\")\n",
    "    \n",
    "    source, target = prepare_data(lidar_path, gaussiansplat_path)\n",
    "\n",
    "    lidar_points = len(source.points)\n",
    "    gaussian_points = len(target.points)\n",
    "\n",
    "    voxel_size = (lidar_points//gaussian_points)*0.001\n",
    "    print(voxel_size)\n",
    "    source_down = downsample_point_cloud(source, voxel_size)\n",
    "\n",
    "\n",
    "\n",
    "    # pick points from two point clouds and builds correspondences\n",
    "    source_points = pick_points(source_down)\n",
    "    target_points = pick_points(target)\n",
    "    assert (len(source_points) >= 3 and len(target_points) >= 3)\n",
    "    assert (len(source_points) == len(target_points))\n",
    "    registered = register_via_correspondences(source_down, target, source_points, target_points)\n",
    "    print(\"\")\n",
    "    return registered\n",
    "\n"
   ]
  },
  {
   "cell_type": "code",
   "execution_count": 3,
   "metadata": {},
   "outputs": [
    {
     "name": "stdout",
     "output_type": "stream",
     "text": [
      "manual ICP\n",
      "Visualization of two point clouds before manual alignment\n",
      "0.10200000000000001\n",
      ":: Downsample with a voxel size 0.102.\n",
      "\n",
      "1) Please pick at least three correspondences using [shift + left click]\n",
      "   Press [shift + right click] to undo point picking\n",
      "2) After picking points, press 'Q' to close the window\n",
      "[Open3D INFO] Picked point #90270 (4.9, -7.4, -10.) to add in queue.\n",
      "[Open3D INFO] Picked point #1113 (2.6, -8.3, -9.0) to add in queue.\n",
      "[Open3D INFO] Picked point #64787 (3.6, -9.7, -20.) to add in queue.\n",
      "[Open3D INFO] Picked point #150824 (5.6, -2.0, -14.) to add in queue.\n",
      "\n",
      "\n",
      "1) Please pick at least three correspondences using [shift + left click]\n",
      "   Press [shift + right click] to undo point picking\n",
      "2) After picking points, press 'Q' to close the window\n",
      "[Open3D INFO] Picked point #630259 (2.0, 2.1, 3.0) to add in queue.\n",
      "[Open3D INFO] Picked point #194719 (3.2, 1.6, 0.46) to add in queue.\n",
      "[Open3D INFO] Picked point #12480 (-7.8, 1.7, 1.0) to add in queue.\n",
      "[Open3D INFO] Picked point #616740 (-0.71, -2.4, 6.9) to add in queue.\n",
      "\n",
      "Compute a rough transform using the correspondences given by user\n",
      "Perform point-to-point ICP refinement\n",
      "\n"
     ]
    }
   ],
   "source": [
    "cc_pc = \"D:\\MASTERPROJEKT\\scripts\\Testfiles\\Masterkueche_GaussianSplat_CloudCompare.ply\"\n",
    "lidar_pc = \"D:\\MASTERPROJEKT\\scripts\\Testfiles\\Masterkueche_LIDAR_CloudCompare_unalligned.ply\"\n",
    " \n",
    "\n",
    "cc_pc_alligned = manual_registration(lidar_pc, cc_pc)"
   ]
  },
  {
   "cell_type": "code",
   "execution_count": 13,
   "metadata": {},
   "outputs": [
    {
     "name": "stdout",
     "output_type": "stream",
     "text": [
      "C:\\Users\\gauss\\AppData\\Local\\Temp\\tmpr57nv4tm.ply\n"
     ]
    }
   ],
   "source": [
    "print(cc_pc_alligned)\n",
    "pcd = o3d.io.read_point_cloud(cc_pc_alligned)\n",
    "type(pcd)\n",
    "\n",
    "o3d.visualization.draw_geometries([pcd])"
   ]
  },
  {
   "cell_type": "code",
   "execution_count": null,
   "metadata": {},
   "outputs": [],
   "source": []
  }
 ],
 "metadata": {
  "kernelspec": {
   "display_name": "pointcloudedit",
   "language": "python",
   "name": "python3"
  },
  "language_info": {
   "codemirror_mode": {
    "name": "ipython",
    "version": 3
   },
   "file_extension": ".py",
   "mimetype": "text/x-python",
   "name": "python",
   "nbconvert_exporter": "python",
   "pygments_lexer": "ipython3",
   "version": "3.8.19"
  }
 },
 "nbformat": 4,
 "nbformat_minor": 2
}
